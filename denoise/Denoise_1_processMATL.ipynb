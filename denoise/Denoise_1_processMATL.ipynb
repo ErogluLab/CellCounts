{
 "cells": [
  {
   "cell_type": "code",
   "execution_count": 6,
   "metadata": {
    "deletable": false,
    "editable": false
   },
   "outputs": [
    {
     "name": "stdout",
     "output_type": "stream",
     "text": [
      "Done!\n"
     ]
    }
   ],
   "source": [
    "\"\"\"Convert Olympus's proprietary MATL data into a format readable my ImageJ.\"\"\"\n",
    "\n",
    "from tkinter import filedialog\n",
    "import os\n",
    "import tkinter as tk\n",
    "import xml.etree.ElementTree as ET\n",
    "from IPython.display import clear_output\n",
    "%gui tk\n",
    "\n",
    "root = tk.Tk()\n",
    "root.withdraw()\n",
    "root.call('wm', 'attributes', '.', '-topmost', True)\n",
    "\n",
    "def processMATL(path):\n",
    "    # Save processed TileConfig file(s) in folder(s) with MATL file.\n",
    "    if type(path) != str:\n",
    "        raise TypeError(\"Input must be str.\")\n",
    "        \n",
    "    omppath = path + \"/matl.omp2info\"\n",
    "    if not os.path.isfile(omppath): # If MATL file does not exist, skip.\n",
    "        return False\n",
    "    \n",
    "    # Import XML\n",
    "    tree = ET.parse(omppath)\n",
    "    root = tree.getroot()\n",
    "\n",
    "    grouplist = list() # Get group number first\n",
    "    for group_i in range(len(root)):\n",
    "        if 'objectId' in root[group_i].attrib.keys():\n",
    "            grouplist.append(group_i)\n",
    "\n",
    "    dictlist = list()\n",
    "    z = float(0)\n",
    "    for group in grouplist:\n",
    "        dictimg = dict()\n",
    "        for img_i in range(len(root[group])): # Images\n",
    "            if 'id' in root[group][img_i].attrib.keys():\n",
    "                check = 0\n",
    "                for prop in root[group][img_i]: # Properties\n",
    "                    if prop.tag.endswith('image'):\n",
    "                        name = prop.text\n",
    "                        check += 1\n",
    "                    if prop.tag.endswith('xIndex'):\n",
    "                        x = size * int(prop.text)\n",
    "                        check += 1\n",
    "                    if prop.tag.endswith('yIndex'):\n",
    "                        y = size * int(prop.text)\n",
    "                        check += 1\n",
    "                if check == 3: # Must have all 3 attributes before adding\n",
    "                    dictimg[name[:-4]+\".tif\"] = (x,y,z) # Convert oir to tif\n",
    "        dictlist.append(dictimg)\n",
    "\n",
    "    spacer = '; ; '\n",
    "    for num in range(len(dictlist)):\n",
    "        with open(path + 'TileConfiguration' + str(num+1) + '.txt', 'w') as f: # Tuple to str\n",
    "            f.write('dim=3\\n')\n",
    "            for key, value in dictlist[num].items():\n",
    "                f.write(key + spacer + ''.join(str(value)) + '\\n')\n",
    "    return True\n",
    "\n",
    "size = float(input(\"Image size? \")) * 0.9 # 20% overlap\n",
    "directory = filedialog.askdirectory(title=\"Choose big folder directory\")\n",
    "\n",
    "did_something = False\n",
    "for root, dirs, files in os.walk(directory):\n",
    "    for i in dirs:\n",
    "        if processMATL(directory + \"/\" + i + \"/\"):\n",
    "            did_something = True\n",
    "\n",
    "clear_output(wait=True)\n",
    "print(\"Done!\") if did_something else print(\"Didn't run anything. Check folder?\")"
   ]
  },
  {
   "cell_type": "code",
   "execution_count": null,
   "metadata": {},
   "outputs": [],
   "source": []
  }
 ],
 "metadata": {
  "kernelspec": {
   "display_name": "Python 3",
   "language": "python",
   "name": "python3"
  },
  "language_info": {
   "codemirror_mode": {
    "name": "ipython",
    "version": 3
   },
   "file_extension": ".py",
   "mimetype": "text/x-python",
   "name": "python",
   "nbconvert_exporter": "python",
   "pygments_lexer": "ipython3",
   "version": "3.7.6"
  }
 },
 "nbformat": 4,
 "nbformat_minor": 4
}
